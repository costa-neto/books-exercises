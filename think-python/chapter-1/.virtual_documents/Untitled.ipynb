


print("Hello World"
      


print"Hello World"


print"Hello World")


print "Hello World"





print("Hellow World)


print(Hello World")


print(Hello World)





print(+2)


print(2++2)





print(013)





print(5 8)





print("Em 42 minutos e 42 segundos temos "+str((42*60)+42)+" segundos")





print("Em 10 quilômetros temos "+str((10/1.6))+" milhas")





print("Passo médio: "+str((42+(42/60))/6.25))
print("Velocidade média: "+str((6.25*60)/(42+(42/60))))



