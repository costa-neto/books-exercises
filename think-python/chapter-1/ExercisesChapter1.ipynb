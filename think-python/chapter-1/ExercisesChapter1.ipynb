{
 "cells": [
  {
   "attachments": {},
   "cell_type": "markdown",
   "id": "608e26ed-6d2f-4646-95b2-e24e7eb662ce",
   "metadata": {},
   "source": [
    "<h1>Exercício 1.1</h1>\n",
    "\n",
    "<h2>1. Em uma instrução print, o que acontece se você omitir um dos parênteses ou ambos?</h2>"
   ]
  },
  {
   "cell_type": "code",
   "execution_count": 19,
   "id": "7f41f633-5c1b-4720-934a-2efa307917ce",
   "metadata": {},
   "outputs": [
    {
     "ename": "SyntaxError",
     "evalue": "incomplete input (3683036347.py, line 2)",
     "output_type": "error",
     "traceback": [
      "\u001b[0;36m  Cell \u001b[0;32mIn[19], line 2\u001b[0;36m\u001b[0m\n\u001b[0;31m    \u001b[0m\n\u001b[0m    ^\u001b[0m\n\u001b[0;31mSyntaxError\u001b[0m\u001b[0;31m:\u001b[0m incomplete input\n"
     ]
    }
   ],
   "source": [
    "print(\"Hello World\"\n",
    "      "
   ]
  },
  {
   "cell_type": "code",
   "execution_count": 2,
   "id": "77c24e97-2d4b-4160-b13c-2f4142fe7bfa",
   "metadata": {},
   "outputs": [
    {
     "ename": "SyntaxError",
     "evalue": "Missing parentheses in call to 'print'. Did you mean print(...)? (4228807208.py, line 1)",
     "output_type": "error",
     "traceback": [
      "\u001b[0;36m  Cell \u001b[0;32mIn[2], line 1\u001b[0;36m\u001b[0m\n\u001b[0;31m    print\"Hello World\"\u001b[0m\n\u001b[0m    ^\u001b[0m\n\u001b[0;31mSyntaxError\u001b[0m\u001b[0;31m:\u001b[0m Missing parentheses in call to 'print'. Did you mean print(...)?\n"
     ]
    }
   ],
   "source": [
    "print\"Hello World\""
   ]
  },
  {
   "cell_type": "code",
   "execution_count": 3,
   "id": "4140e9d1-bdce-453b-9299-ff6f43e9c7b2",
   "metadata": {},
   "outputs": [
    {
     "ename": "SyntaxError",
     "evalue": "unmatched ')' (2118422366.py, line 1)",
     "output_type": "error",
     "traceback": [
      "\u001b[0;36m  Cell \u001b[0;32mIn[3], line 1\u001b[0;36m\u001b[0m\n\u001b[0;31m    print\"Hello World\")\u001b[0m\n\u001b[0m                      ^\u001b[0m\n\u001b[0;31mSyntaxError\u001b[0m\u001b[0;31m:\u001b[0m unmatched ')'\n"
     ]
    }
   ],
   "source": [
    "print\"Hello World\")"
   ]
  },
  {
   "cell_type": "code",
   "execution_count": 4,
   "id": "cc211d94-3111-4d37-acc4-9e0295d8a4b6",
   "metadata": {},
   "outputs": [
    {
     "ename": "SyntaxError",
     "evalue": "Missing parentheses in call to 'print'. Did you mean print(...)? (796388850.py, line 1)",
     "output_type": "error",
     "traceback": [
      "\u001b[0;36m  Cell \u001b[0;32mIn[4], line 1\u001b[0;36m\u001b[0m\n\u001b[0;31m    print \"Hello World\"\u001b[0m\n\u001b[0m    ^\u001b[0m\n\u001b[0;31mSyntaxError\u001b[0m\u001b[0;31m:\u001b[0m Missing parentheses in call to 'print'. Did you mean print(...)?\n"
     ]
    }
   ],
   "source": [
    "print \"Hello World\""
   ]
  },
  {
   "cell_type": "markdown",
   "id": "d96d164c-d15e-451a-a577-7a988ccad146",
   "metadata": {},
   "source": [
    "<h2>2. Se estiver tentando imprimir uma string, o que acontece se omitir uma das aspas ou ambas?</h2>"
   ]
  },
  {
   "cell_type": "code",
   "execution_count": 6,
   "id": "6ad2a484-822b-4776-9430-6abfee293ade",
   "metadata": {},
   "outputs": [
    {
     "ename": "SyntaxError",
     "evalue": "unterminated string literal (detected at line 1) (803008771.py, line 1)",
     "output_type": "error",
     "traceback": [
      "\u001b[0;36m  Cell \u001b[0;32mIn[6], line 1\u001b[0;36m\u001b[0m\n\u001b[0;31m    print(\"Hellow World)\u001b[0m\n\u001b[0m          ^\u001b[0m\n\u001b[0;31mSyntaxError\u001b[0m\u001b[0;31m:\u001b[0m unterminated string literal (detected at line 1)\n"
     ]
    }
   ],
   "source": [
    "print(\"Hellow World)"
   ]
  },
  {
   "cell_type": "code",
   "execution_count": 7,
   "id": "096f7ff4-199a-4de1-b603-18fd8e2b4119",
   "metadata": {},
   "outputs": [
    {
     "ename": "SyntaxError",
     "evalue": "unterminated string literal (detected at line 1) (522180808.py, line 1)",
     "output_type": "error",
     "traceback": [
      "\u001b[0;36m  Cell \u001b[0;32mIn[7], line 1\u001b[0;36m\u001b[0m\n\u001b[0;31m    print(Hello World\")\u001b[0m\n\u001b[0m                     ^\u001b[0m\n\u001b[0;31mSyntaxError\u001b[0m\u001b[0;31m:\u001b[0m unterminated string literal (detected at line 1)\n"
     ]
    }
   ],
   "source": [
    "print(Hello World\")"
   ]
  },
  {
   "cell_type": "code",
   "execution_count": 8,
   "id": "902db917-eda2-48d8-bf83-ccec1e2702fd",
   "metadata": {},
   "outputs": [
    {
     "ename": "SyntaxError",
     "evalue": "invalid syntax. Perhaps you forgot a comma? (4293340409.py, line 1)",
     "output_type": "error",
     "traceback": [
      "\u001b[0;36m  Cell \u001b[0;32mIn[8], line 1\u001b[0;36m\u001b[0m\n\u001b[0;31m    print(Hello World)\u001b[0m\n\u001b[0m          ^\u001b[0m\n\u001b[0;31mSyntaxError\u001b[0m\u001b[0;31m:\u001b[0m invalid syntax. Perhaps you forgot a comma?\n"
     ]
    }
   ],
   "source": [
    "print(Hello World)"
   ]
  },
  {
   "cell_type": "markdown",
   "id": "3fbc1c82-a69d-42e3-9886-fc28e798b734",
   "metadata": {},
   "source": [
    "<h2>3. Você pode usar um sinal de menos para fazer um número negativo como -2. O que acontece se puser um sinal de mais antes de um número? E se escrever assim: 2++2?</h2>"
   ]
  },
  {
   "cell_type": "code",
   "execution_count": 9,
   "id": "95b5b84e-75e5-4e7f-b78d-321028954fd2",
   "metadata": {},
   "outputs": [
    {
     "name": "stdout",
     "output_type": "stream",
     "text": [
      "2\n"
     ]
    }
   ],
   "source": [
    "print(+2)"
   ]
  },
  {
   "cell_type": "code",
   "execution_count": 10,
   "id": "6ccf36cf-2e59-4373-acd5-eba1b58613be",
   "metadata": {},
   "outputs": [
    {
     "name": "stdout",
     "output_type": "stream",
     "text": [
      "4\n"
     ]
    }
   ],
   "source": [
    "print(2++2)"
   ]
  },
  {
   "cell_type": "markdown",
   "id": "1bde5dd0-1303-4bb1-93f6-9636e9b67618",
   "metadata": {},
   "source": [
    "<h2>4. Na notação matemática, zeros à esquerda são aceitáveis, como em 02. O que acontece se você tentar usar isso no Python?</h2>"
   ]
  },
  {
   "cell_type": "code",
   "execution_count": 11,
   "id": "fef1311d-6ad7-4693-a84b-363918ffb7e0",
   "metadata": {},
   "outputs": [
    {
     "ename": "SyntaxError",
     "evalue": "leading zeros in decimal integer literals are not permitted; use an 0o prefix for octal integers (3738686947.py, line 1)",
     "output_type": "error",
     "traceback": [
      "\u001b[0;36m  Cell \u001b[0;32mIn[11], line 1\u001b[0;36m\u001b[0m\n\u001b[0;31m    print(013)\u001b[0m\n\u001b[0m          ^\u001b[0m\n\u001b[0;31mSyntaxError\u001b[0m\u001b[0;31m:\u001b[0m leading zeros in decimal integer literals are not permitted; use an 0o prefix for octal integers\n"
     ]
    }
   ],
   "source": [
    "print(013)"
   ]
  },
  {
   "cell_type": "markdown",
   "id": "89e80601-1011-47a2-87c3-1a873540219e",
   "metadata": {},
   "source": [
    "<h2>5. O que acontece se você tiver dois valores sem nenhum operador entre eles?</h2>"
   ]
  },
  {
   "cell_type": "code",
   "execution_count": 13,
   "id": "78c08174-58d2-4f15-abfe-cfcf07ab8c18",
   "metadata": {},
   "outputs": [
    {
     "ename": "SyntaxError",
     "evalue": "invalid syntax. Perhaps you forgot a comma? (766648406.py, line 1)",
     "output_type": "error",
     "traceback": [
      "\u001b[0;36m  Cell \u001b[0;32mIn[13], line 1\u001b[0;36m\u001b[0m\n\u001b[0;31m    print(5 8)\u001b[0m\n\u001b[0m          ^\u001b[0m\n\u001b[0;31mSyntaxError\u001b[0m\u001b[0;31m:\u001b[0m invalid syntax. Perhaps you forgot a comma?\n"
     ]
    }
   ],
   "source": [
    "print(5 8)"
   ]
  },
  {
   "cell_type": "markdown",
   "id": "7d2615ec-aa55-4220-8a7d-034aa6045d8e",
   "metadata": {},
   "source": [
    "<h1>Exercício 1.2</h1>\n",
    "\n",
    "<h2>1. Quantos segundos há em 42 minutos e 42 segundos?</h2>"
   ]
  },
  {
   "cell_type": "code",
   "execution_count": 18,
   "id": "7d184c8d-a674-4ca6-84d4-c9a176deeaf4",
   "metadata": {},
   "outputs": [
    {
     "name": "stdout",
     "output_type": "stream",
     "text": [
      "Em 42 minutos e 42 segundos temos 2562 segundos\n"
     ]
    }
   ],
   "source": [
    "print(\"Em 42 minutos e 42 segundos temos \"+str((42*60)+42)+\" segundos\")"
   ]
  },
  {
   "cell_type": "markdown",
   "id": "db76fa54-c5ca-4620-9467-07315e37fee0",
   "metadata": {},
   "source": [
    "<h2>2. Quantas milhas há em 10 quilômetros?</h2>"
   ]
  },
  {
   "cell_type": "code",
   "execution_count": 20,
   "id": "af47a040-e246-418d-a93b-2a86e7b42772",
   "metadata": {},
   "outputs": [
    {
     "name": "stdout",
     "output_type": "stream",
     "text": [
      "Em 10 quilômetros temos 6.25 milhas\n"
     ]
    }
   ],
   "source": [
    "print(\"Em 10 quilômetros temos \"+str((10/1.6))+\" milhas\")"
   ]
  },
  {
   "cell_type": "markdown",
   "id": "b8935c2e-3de1-445b-97f2-8cd65b76c39c",
   "metadata": {},
   "source": [
    "<h2>3. Se você correr 10 quilômetros em 42minutos e 42 segundos, qual é o passo médio(tempo por milha em minutos e segundos)? Qual é a sua velocidade média em milhas por hora?</h2>"
   ]
  },
  {
   "cell_type": "code",
   "execution_count": 24,
   "id": "720d086a-7b02-48c8-aea3-14dec68e939c",
   "metadata": {},
   "outputs": [
    {
     "name": "stdout",
     "output_type": "stream",
     "text": [
      "Passo médio: 6.832000000000001\n",
      "Velocidade média: 8.782201405152223\n"
     ]
    }
   ],
   "source": [
    "print(\"Passo médio: \"+str((42+(42/60))/6.25))\n",
    "print(\"Velocidade média: \"+str((6.25*60)/(42+(42/60))))"
   ]
  },
  {
   "cell_type": "code",
   "execution_count": null,
   "id": "48870924-0991-46b4-b344-c8a06ecdd8f1",
   "metadata": {},
   "outputs": [],
   "source": []
  }
 ],
 "metadata": {
  "kernelspec": {
   "display_name": "Python 3 (ipykernel)",
   "language": "python",
   "name": "python3"
  },
  "language_info": {
   "codemirror_mode": {
    "name": "ipython",
    "version": 3
   },
   "file_extension": ".py",
   "mimetype": "text/x-python",
   "name": "python",
   "nbconvert_exporter": "python",
   "pygments_lexer": "ipython3",
   "version": "3.11.5"
  }
 },
 "nbformat": 4,
 "nbformat_minor": 5
}
