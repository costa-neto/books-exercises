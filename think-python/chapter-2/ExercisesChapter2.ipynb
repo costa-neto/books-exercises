{
 "cells": [
  {
   "cell_type": "markdown",
   "id": "52ea7ef0-3251-497a-9894-8911b368c795",
   "metadata": {},
   "source": [
    "<h1>Exercício 2.1</h1>\n",
    "<h2>1. Vimos que n = 42 é legal. E 42 = n?</h2>"
   ]
  },
  {
   "cell_type": "code",
   "execution_count": 1,
   "id": "ab024423-0a60-4131-a286-f91abb1dc51e",
   "metadata": {},
   "outputs": [
    {
     "ename": "SyntaxError",
     "evalue": "cannot assign to literal here. Maybe you meant '==' instead of '='? (3090476294.py, line 1)",
     "output_type": "error",
     "traceback": [
      "\u001b[0;36m  Cell \u001b[0;32mIn[1], line 1\u001b[0;36m\u001b[0m\n\u001b[0;31m    42 = n\u001b[0m\n\u001b[0m    ^\u001b[0m\n\u001b[0;31mSyntaxError\u001b[0m\u001b[0;31m:\u001b[0m cannot assign to literal here. Maybe you meant '==' instead of '='?\n"
     ]
    }
   ],
   "source": [
    "42 = n"
   ]
  },
  {
   "cell_type": "markdown",
   "id": "10bc0362-a243-4efb-86aa-36eda36537d7",
   "metadata": {},
   "source": [
    "<h2>2. E x = y = 1 ?</h2"
   ]
  },
  {
   "cell_type": "code",
   "execution_count": 6,
   "id": "0eaf9943-75ec-4574-bfac-34f24c33d704",
   "metadata": {},
   "outputs": [],
   "source": [
    "x = y = 1"
   ]
  },
  {
   "cell_type": "code",
   "execution_count": 7,
   "id": "9c69c99d-8b70-416b-85cc-a40866cc5b1d",
   "metadata": {},
   "outputs": [
    {
     "ename": "SyntaxError",
     "evalue": "invalid syntax (2514765735.py, line 1)",
     "output_type": "error",
     "traceback": [
      "\u001b[0;36m  Cell \u001b[0;32mIn[7], line 1\u001b[0;36m\u001b[0m\n\u001b[0;31m    print(x = y = 1)\u001b[0m\n\u001b[0m                ^\u001b[0m\n\u001b[0;31mSyntaxError\u001b[0m\u001b[0;31m:\u001b[0m invalid syntax\n"
     ]
    }
   ],
   "source": [
    "print(x = y = 1)"
   ]
  },
  {
   "cell_type": "markdown",
   "id": "bb6e223b-7597-470d-a373-fbd8258066ac",
   "metadata": {},
   "source": [
    "<h2>3. O que acontece se você adicionar um ponto e vírgula no final de uma instrução em Python?</h2>"
   ]
  },
  {
   "cell_type": "code",
   "execution_count": 8,
   "id": "fc501c9a-fd06-44dd-8064-4945678eb3ce",
   "metadata": {},
   "outputs": [],
   "source": [
    "x = 42;"
   ]
  },
  {
   "cell_type": "markdown",
   "id": "3ceaf58c-55b2-4752-bc75-39afeb2d0563",
   "metadata": {},
   "source": [
    "<h2>4. Em notação matemática, é possível multiplicar x e y desta forma: xy. O que acontece se você tentar fazer o mesmo no Python?</h2>"
   ]
  },
  {
   "cell_type": "code",
   "execution_count": 11,
   "id": "aa78b408-4284-4b4b-9b28-47959cf45790",
   "metadata": {},
   "outputs": [
    {
     "ename": "NameError",
     "evalue": "name 'xy' is not defined",
     "output_type": "error",
     "traceback": [
      "\u001b[0;31m---------------------------------------------------------------------------\u001b[0m",
      "\u001b[0;31mNameError\u001b[0m                                 Traceback (most recent call last)",
      "Cell \u001b[0;32mIn[11], line 3\u001b[0m\n\u001b[1;32m      1\u001b[0m x \u001b[38;5;241m=\u001b[39m \u001b[38;5;241m2\u001b[39m\n\u001b[1;32m      2\u001b[0m y\u001b[38;5;241m=\u001b[39m\u001b[38;5;241m3\u001b[39m\n\u001b[0;32m----> 3\u001b[0m \u001b[43mxy\u001b[49m\n",
      "\u001b[0;31mNameError\u001b[0m: name 'xy' is not defined"
     ]
    }
   ],
   "source": [
    "x = 2\n",
    "y=3\n",
    "xy"
   ]
  },
  {
   "cell_type": "markdown",
   "id": "e54396e1-1eb9-48ec-b4bf-38a3b1b63e71",
   "metadata": {},
   "source": [
    "<h1>Exercício 2.2</h1>\n",
    "<h2>Pratique o uso do interpretador de Python como uma calculadora:</h2>\n",
    "<h2>1. O volume de uma esfera com r é 4/3 pi r³. Qual é o volume ede uma esfera com raio 5?</h2>"
   ]
  },
  {
   "cell_type": "code",
   "execution_count": 13,
   "id": "32fc40c8-45f9-4602-8155-3cc36c86a3fd",
   "metadata": {},
   "outputs": [
    {
     "name": "stdout",
     "output_type": "stream",
     "text": [
      "O volume é 523.3333333333334\n"
     ]
    }
   ],
   "source": [
    "r = 5\n",
    "print(\"O volume é \"+str((4/3)*(3.14)*(r**3)))"
   ]
  },
  {
   "cell_type": "markdown",
   "id": "2c203421-0291-4109-8f09-52870b014453",
   "metadata": {},
   "source": [
    "<h2>2. Suponha que o preço de capa de um livro seja 24,95 , mas as livrarias recebem um desconto de 40%. O transporte custa 3,00, para o primeiro exemplar e 75 centavos para cada exemplar adicional. Qual é o custo total de atacado para 60 cópias?</h2>"
   ]
  },
  {
   "cell_type": "code",
   "execution_count": 15,
   "id": "37bb64a0-7186-4d4b-963f-860da1edbc05",
   "metadata": {},
   "outputs": [
    {
     "name": "stdout",
     "output_type": "stream",
     "text": [
      "O custo total é de  945.4499999999999\n"
     ]
    }
   ],
   "source": [
    "custoTotal = (0.6 * (24.95 * 60)) + 3 + (59 * 0.75)\n",
    "print(\"O custo total é de \", str(custoTotal))"
   ]
  },
  {
   "cell_type": "markdown",
   "id": "3526064f-b08d-4f44-9640-653debb9bdf7",
   "metadata": {},
   "source": [
    "<h2>3. Se eu sair da minha casa às 6:52 e correr 1 quilômetro a um certo passo(8min15s por quilômetro), então 3 quilômetros a um passo mais rápido(7min12s por quilômetro) e quilômetro no mesmo passo usado em primeiro lugar, que horas chego em casa para o café da manhã?</h2>"
   ]
  },
  {
   "cell_type": "code",
   "execution_count": 24,
   "id": "6562f4c8-f944-4c80-b524-d73342602559",
   "metadata": {},
   "outputs": [
    {
     "ename": "TypeError",
     "evalue": "can only concatenate str (not \"int\") to str",
     "output_type": "error",
     "traceback": [
      "\u001b[0;31m---------------------------------------------------------------------------\u001b[0m",
      "\u001b[0;31mTypeError\u001b[0m                                 Traceback (most recent call last)",
      "Cell \u001b[0;32mIn[24], line 6\u001b[0m\n\u001b[1;32m      4\u001b[0m minFinal \u001b[38;5;241m=\u001b[39m horaFinal \u001b[38;5;241m%\u001b[39m \u001b[38;5;241m60\u001b[39m\n\u001b[1;32m      5\u001b[0m horaFinal \u001b[38;5;241m/\u001b[39m\u001b[38;5;241m/\u001b[39m\u001b[38;5;241m=\u001b[39m \u001b[38;5;241m60\u001b[39m\n\u001b[0;32m----> 6\u001b[0m \u001b[38;5;28mprint\u001b[39m(\u001b[38;5;124;43m\"\u001b[39;49m\u001b[38;5;124;43mO horário de chegada é \u001b[39;49m\u001b[38;5;124;43m\"\u001b[39;49m\u001b[38;5;241;43m+\u001b[39;49m\u001b[43mhoraFinal\u001b[49m\u001b[38;5;241m+\u001b[39m\u001b[38;5;124m\"\u001b[39m\u001b[38;5;124m:\u001b[39m\u001b[38;5;124m\"\u001b[39m\u001b[38;5;241m+\u001b[39mminFinal\u001b[38;5;241m+\u001b[39m\u001b[38;5;124m\"\u001b[39m\u001b[38;5;124m:\u001b[39m\u001b[38;5;124m\"\u001b[39m\u001b[38;5;241m+\u001b[39msegFinal)\n",
      "\u001b[0;31mTypeError\u001b[0m: can only concatenate str (not \"int\") to str"
     ]
    }
   ],
   "source": [
    "horaFinal = (6*60*60)+(52*60) + 2*((8*60) + 15) + 3*((7*60)+12)\n",
    "segFinal = horaFinal % 60\n",
    "horaFinal //= 60\n",
    "minFinal = horaFinal % 60\n",
    "horaFinal //= 60\n",
    "print(\"O horário de chegada é \"+horaFinal+\":\"+minFinal+\":\"+segFinal)"
   ]
  },
  {
   "cell_type": "code",
   "execution_count": null,
   "id": "9f2b2814-3447-48bf-b5b3-d0949bda3162",
   "metadata": {},
   "outputs": [],
   "source": []
  }
 ],
 "metadata": {
  "kernelspec": {
   "display_name": "Python 3 (ipykernel)",
   "language": "python",
   "name": "python3"
  },
  "language_info": {
   "codemirror_mode": {
    "name": "ipython",
    "version": 3
   },
   "file_extension": ".py",
   "mimetype": "text/x-python",
   "name": "python",
   "nbconvert_exporter": "python",
   "pygments_lexer": "ipython3",
   "version": "3.11.5"
  }
 },
 "nbformat": 4,
 "nbformat_minor": 5
}
