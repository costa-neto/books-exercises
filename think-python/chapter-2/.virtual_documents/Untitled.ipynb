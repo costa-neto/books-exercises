


42 = n





x = y = 1


print(x = y = 1)





x = 42;





x = 2
y=3
xy





r = 5
print("O volume é "+str((4/3)*(3.14)*(r**3)))





custoTotal = (0.6 * (24.95 * 60)) + 3 + (59 * 0.75)
print("O custo total é de ", str(custoTotal))





horaFinal = (6*60*60)+(52*60) + 2*((8*60) + 15) + 3*((7*60)+12)
segFinal = horaFinal % 60
horaFinal //= 60
minFinal = horaFinal % 60
horaFinal //= 60
print("O horário de chegada é "+str(horaFinal)+":"+str(minFinal)+":"+str(segFinal))
