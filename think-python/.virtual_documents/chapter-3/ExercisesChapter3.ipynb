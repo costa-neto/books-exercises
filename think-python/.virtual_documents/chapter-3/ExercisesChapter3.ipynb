


def right_justify(s):
    print(" "*(70-len(s)),s)
right_justify("teste")





def do_twice(f):
    f()
    f()


def print_spam():
    print('spam')
do_twice(print_spam)





def do_twice(f, val):
    f(val)
    f(val)
do_twice(print, "teste")





def print_twice(bruce):
    print(bruce)
    print(bruce)





do_twice(print_twice, 'spam')





def do_four_times(f, val):
    do_twice(f, val)
    do_twice(f, val)
do_four_times(print, 'spam')



