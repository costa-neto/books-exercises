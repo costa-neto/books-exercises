{
 "cells": [
  {
   "cell_type": "markdown",
   "id": "dcaf060b-ff64-49d2-a3c0-a9f0523e7d0f",
   "metadata": {},
   "source": [
    "<h1>Exercício 5.1</h1>\n",
    "<h2>O módulo time fornece uma função, também chamada time, que devolve a Hora Média de Greenwich na \"época\", que é um tempo arbitrário usado como ponto de referência. Em sistemas UNIX, a época é primeiro de janeiro de 1970.\n",
    "Escreva um script que leia a hora atual e a converta em um tempo em horas, minutos e segundos, mais o número de dias desde a época.</h2>"
   ]
  },
  {
   "cell_type": "code",
   "execution_count": 16,
   "id": "4904e943-e6d6-49bb-873c-0ae5842e797a",
   "metadata": {},
   "outputs": [
    {
     "name": "stdout",
     "output_type": "stream",
     "text": [
      "Horário Atual em GMT: 19:07:51\n",
      "Dias desde a época: 19646\n"
     ]
    }
   ],
   "source": [
    "import time\n",
    "\n",
    "now = time.localtime()\n",
    "current_time = time.strftime(\"%H:%M:%S\", now)\n",
    "print(\"Horário Atual em GMT:\", current_time)\n",
    "print(\"Dias desde a época:\", str(int((time.time() / 60 / 60 / 24))))"
   ]
  },
  {
   "cell_type": "markdown",
   "id": "f1127040-0796-4509-a033-6932b5058cbb",
   "metadata": {},
   "source": [
    "<h1>Exercício 5.2</h1>\n",
    "<h2>O útimo teorema de Fermat diz que não há nenhum número inteiro positivo a, b e c tal que<br> a<sup>n</sup> + b<sup>n</sup>=c<sup>n</sup><br>\n",
    "</h2>\n",
    "<h3>1. Escreva uma função chamada check_fermat que receba quatro parâmetros - a, b, c e n - e verifique se o teorema de Fermat se mantém. Se n for maior que 2 e <br> a<sup>n</sup> + b<sup>n</sup>=c<sup>n</sup><br>\n",
    "o programa deve imprimir \"Holy smokes, Fermat was wrong!\". Senão, o programa deve exibir \"No, that doesn't work.\".</h3>"
   ]
  },
  {
   "cell_type": "code",
   "execution_count": 20,
   "id": "8d21368c-99b7-4e76-8234-c0c32fed825b",
   "metadata": {},
   "outputs": [],
   "source": [
    "def check_fermat(a, b, c, n):\n",
    "    if ((n > 2) and ((a**n) + (b**n) == (c**n))):\n",
    "        print(\"Holy smokes, Fermat was wrong!\")\n",
    "    else:\n",
    "        print(\"No, that doesn't work.\")\n",
    "\n"
   ]
  },
  {
   "cell_type": "markdown",
   "id": "8c9b37b6-4957-4da6-8ead-1a77ba847143",
   "metadata": {},
   "source": [
    "<h3>2. Escreva uma função que peça ao usuário para digitar valores para a, b, c e n, os converta em números inteiros e use check_fermat para verificar se violam o teorema de Fermat.</h3>"
   ]
  },
  {
   "cell_type": "code",
   "execution_count": 23,
   "id": "43fbc6e5-9318-439e-9c01-921839bfda3f",
   "metadata": {},
   "outputs": [],
   "source": [
    "def use_check_fermat():\n",
    "    a = input(\"Digite um valor para a:\")\n",
    "    b = input(\"Digite um valor para b:\")\n",
    "    c = input(\"Digite um valor para c:\")\n",
    "    n = input(\"Digite um valor para n:\")\n",
    "    check_fermat(int(a),int(b),int(c),int(n))"
   ]
  },
  {
   "cell_type": "code",
   "execution_count": 24,
   "id": "8331815e-34e1-4658-9519-d61191c80661",
   "metadata": {},
   "outputs": [
    {
     "name": "stdin",
     "output_type": "stream",
     "text": [
      "Digite um valor para a: 1\n",
      "Digite um valor para b: 2\n",
      "Digite um valor para c: 3\n",
      "Digite um valor para n: 4\n"
     ]
    },
    {
     "name": "stdout",
     "output_type": "stream",
     "text": [
      "No, that doesn't work.\n"
     ]
    }
   ],
   "source": [
    "use_check_fermat()"
   ]
  }
 ],
 "metadata": {
  "kernelspec": {
   "display_name": "Python 3 (ipykernel)",
   "language": "python",
   "name": "python3"
  },
  "language_info": {
   "codemirror_mode": {
    "name": "ipython",
    "version": 3
   },
   "file_extension": ".py",
   "mimetype": "text/x-python",
   "name": "python",
   "nbconvert_exporter": "python",
   "pygments_lexer": "ipython3",
   "version": "3.11.6"
  }
 },
 "nbformat": 4,
 "nbformat_minor": 5
}
