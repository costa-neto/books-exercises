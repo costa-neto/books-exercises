{
 "cells": [
  {
   "cell_type": "markdown",
   "id": "dcaf060b-ff64-49d2-a3c0-a9f0523e7d0f",
   "metadata": {},
   "source": [
    "<h1>Exercício 5.1</h1>\n",
    "<h2>O módulo time fornece uma função, também chamada time, que devolve a Hora Média de Greenwich na \"época\", que é um tempo arbitrário usado como ponto de referência. Em sistemas UNIX, a época é primeiro de janeiro de 1970.\n",
    "Escreva um script que leia a hora atual e a converta em um tempo em horas, minutos e segundos, mais o número de dias desde a época.</h2>"
   ]
  },
  {
   "cell_type": "code",
   "execution_count": 16,
   "id": "4904e943-e6d6-49bb-873c-0ae5842e797a",
   "metadata": {},
   "outputs": [
    {
     "name": "stdout",
     "output_type": "stream",
     "text": [
      "Horário Atual em GMT: 19:07:51\n",
      "Dias desde a época: 19646\n"
     ]
    }
   ],
   "source": [
    "import time\n",
    "\n",
    "now = time.localtime()\n",
    "current_time = time.strftime(\"%H:%M:%S\", now)\n",
    "print(\"Horário Atual em GMT:\", current_time)\n",
    "print(\"Dias desde a época:\", str(int((time.time() / 60 / 60 / 24))))"
   ]
  },
  {
   "cell_type": "markdown",
   "id": "f1127040-0796-4509-a033-6932b5058cbb",
   "metadata": {},
   "source": [
    "<h1>Exercício 5.2</h1>\n",
    "<h2>O útimo teorema de Fermat diz que não há nenhum número inteiro positivo a, b e c tal que<br> a<sup>n</sup> + b<sup>n</sup>=c<sup>n</sup><br>\n",
    "</h2>\n",
    "<h3>1. Escreva uma função chamada check_fermat que receba quatro parâmetros - a, b, c e n - e verifique se o teorema de Fermat se mantém. Se n for maior que 2 e <br> a<sup>n</sup> + b<sup>n</sup>=c<sup>n</sup><br>\n",
    "o programa deve imprimir \"Holy smokes, Fermat was wrong!\". Senão, o programa deve exibir \"No, that doesn't work.\".</h3>"
   ]
  },
  {
   "cell_type": "code",
   "execution_count": 20,
   "id": "8d21368c-99b7-4e76-8234-c0c32fed825b",
   "metadata": {},
   "outputs": [],
   "source": [
    "def check_fermat(a, b, c, n):\n",
    "    if ((n > 2) and ((a**n) + (b**n) == (c**n))):\n",
    "        print(\"Holy smokes, Fermat was wrong!\")\n",
    "    else:\n",
    "        print(\"No, that doesn't work.\")\n",
    "\n"
   ]
  },
  {
   "cell_type": "markdown",
   "id": "8c9b37b6-4957-4da6-8ead-1a77ba847143",
   "metadata": {},
   "source": [
    "<h3>2. Escreva uma função que peça ao usuário para digitar valores para a, b, c e n, os converta em números inteiros e use check_fermat para verificar se violam o teorema de Fermat.</h3>"
   ]
  },
  {
   "cell_type": "code",
   "execution_count": 23,
   "id": "43fbc6e5-9318-439e-9c01-921839bfda3f",
   "metadata": {},
   "outputs": [],
   "source": [
    "def use_check_fermat():\n",
    "    a = input(\"Digite um valor para a:\")\n",
    "    b = input(\"Digite um valor para b:\")\n",
    "    c = input(\"Digite um valor para c:\")\n",
    "    n = input(\"Digite um valor para n:\")\n",
    "    check_fermat(int(a),int(b),int(c),int(n))"
   ]
  },
  {
   "cell_type": "code",
   "execution_count": 24,
   "id": "8331815e-34e1-4658-9519-d61191c80661",
   "metadata": {},
   "outputs": [
    {
     "name": "stdin",
     "output_type": "stream",
     "text": [
      "Digite um valor para a: 1\n",
      "Digite um valor para b: 2\n",
      "Digite um valor para c: 3\n",
      "Digite um valor para n: 4\n"
     ]
    },
    {
     "name": "stdout",
     "output_type": "stream",
     "text": [
      "No, that doesn't work.\n"
     ]
    }
   ],
   "source": [
    "use_check_fermat()"
   ]
  },
  {
   "cell_type": "markdown",
   "id": "37a554d7-0979-4b08-8271-cc6b0a60458c",
   "metadata": {},
   "source": [
    "<h1>Exercício 5.3</h1>\n",
    "<h2>Se você tiver três gravetos, pode ser que consiga arranjá-los em um triângulo ou não. Por exemplo, se um dos gravetos tiver 12 polegadas de comprimento e outros dois tiverem uma polegada de comprimento, não será possível fazer com que os gravetos curtos se encontrem no meio. Há um teste simples para ver se é possível formar um triângulo para quaisquer três comprimentos:</h2>\n",
    "<h3>Se algum dos três comprimentos for maior que a soma dos outros dois, então você não pode formar um triângulo. Senão, você pode.(Se a soma de dois comprimentos igualar o terceiro, eles formar um triângulo chamado \"degenerado\".)\n",
    "<br><br>1. Escreva uma função chamada is_triangle que receba três números inteiros como argumentos, e que imprima \"Yes\" ou \"No\", dependendo da possibilidade de formar ou não um triângulo de gravetos com os comprimentos dados.</h3>"
   ]
  },
  {
   "cell_type": "code",
   "execution_count": 1,
   "id": "af901778-8a7c-47c3-859f-b6a82ecd0aa4",
   "metadata": {},
   "outputs": [],
   "source": [
    "def is_triangle(a, b, c):\n",
    "    if a > b + c or b > a + c or c > a + b:\n",
    "        print(\"No\")\n",
    "    else:\n",
    "        print(\"Yes\")\n"
   ]
  },
  {
   "cell_type": "markdown",
   "id": "63d22e1a-1464-4584-a199-ffd4092841ce",
   "metadata": {},
   "source": [
    "<h3>2. Escreva uma função que peça ao usuário para digitar três comprimentos de gravetos, os converta em números inteiros e use is_triangle para verificar se os gravetos com os comprimentos dados podem formar um triângulo.</h3>"
   ]
  },
  {
   "cell_type": "code",
   "execution_count": 2,
   "id": "7b010540-b3a4-455b-9f50-accbe68705f3",
   "metadata": {},
   "outputs": [],
   "source": [
    "def use_is_triangle():\n",
    "    a = input(\"Digite o tamanho do lado a:\")\n",
    "    b = input(\"Digite o tamanho do lado b:\")\n",
    "    c = input(\"Digite o tamanho do lado c:\")\n",
    "    is_triangle(int(a),int(b),int(c))"
   ]
  },
  {
   "cell_type": "code",
   "execution_count": 3,
   "id": "da8726bf-3aaf-4b12-b219-087329e9ca55",
   "metadata": {},
   "outputs": [
    {
     "name": "stdin",
     "output_type": "stream",
     "text": [
      "Digite o tamanho do lado a: 12\n",
      "Digite o tamanho do lado b: 1\n",
      "Digite o tamanho do lado c: 1\n"
     ]
    },
    {
     "name": "stdout",
     "output_type": "stream",
     "text": [
      "No\n"
     ]
    }
   ],
   "source": [
    "use_is_triangle()"
   ]
  },
  {
   "cell_type": "markdown",
   "id": "97aefc5b-9b74-4b3e-90a8-ceec5923d7cf",
   "metadata": {},
   "source": [
    "<h1>Exercício 5.4</h1>\n",
    "<h2>Qual é a saída do seguinte programa? Desenhe um diagrama de pilha que mostre o estado do programa quando exibir o resultado.</h2>"
   ]
  },
  {
   "cell_type": "code",
   "execution_count": 14,
   "id": "0ec904b4-af77-4f4e-8eda-1f2c3af94b2b",
   "metadata": {},
   "outputs": [
    {
     "name": "stdout",
     "output_type": "stream",
     "text": [
      "6\n"
     ]
    }
   ],
   "source": [
    "def recurse(n, s):\n",
    "    if n == 0:\n",
    "        print(s)\n",
    "    else:\n",
    "        recurse(n - 1, n + s)\n",
    "\n",
    "recurse(3, 0)"
   ]
  },
  {
   "cell_type": "code",
   "execution_count": 25,
   "id": "e39d35e7-00da-4788-910f-a5aa64c1e1ed",
   "metadata": {},
   "outputs": [
    {
     "name": "stdout",
     "output_type": "stream",
     "text": [
      "recurse | n: 3 s: 0 |\n",
      "recurse | n: 2 s: 3 |\n",
      "recurse | n: 1 s: 5 |\n",
      "recurse | n: 0 s: 6 |\n",
      "6\n"
     ]
    }
   ],
   "source": [
    "def recurse_with_state(n, s):\n",
    "    print(\"recurse | n:\",n,\"s:\",s,\"|\")\n",
    "    if n == 0:\n",
    "        print(s)\n",
    "    else:\n",
    "        recurse_with_state(n - 1, n + s)\n",
    "recurse_with_state(3, 0)"
   ]
  },
  {
   "cell_type": "markdown",
   "id": "bc08925a-4370-401a-a9bd-078c0b7d108a",
   "metadata": {},
   "source": [
    "<h3>1. O que aconteceria se você chamasse esta função desta forma: recurse(-1, 0)?</h3>"
   ]
  },
  {
   "cell_type": "code",
   "execution_count": 6,
   "id": "991162b5-950c-4c4b-a229-1a9888cfd15c",
   "metadata": {},
   "outputs": [
    {
     "ename": "RecursionError",
     "evalue": "maximum recursion depth exceeded",
     "output_type": "error",
     "traceback": [
      "\u001b[0;31m---------------------------------------------------------------------------\u001b[0m",
      "\u001b[0;31mRecursionError\u001b[0m                            Traceback (most recent call last)",
      "Cell \u001b[0;32mIn[6], line 1\u001b[0m\n\u001b[0;32m----> 1\u001b[0m \u001b[43mrecurse\u001b[49m\u001b[43m(\u001b[49m\u001b[38;5;241;43m-\u001b[39;49m\u001b[38;5;241;43m1\u001b[39;49m\u001b[43m,\u001b[49m\u001b[43m \u001b[49m\u001b[38;5;241;43m0\u001b[39;49m\u001b[43m)\u001b[49m\n",
      "Cell \u001b[0;32mIn[4], line 5\u001b[0m, in \u001b[0;36mrecurse\u001b[0;34m(n, s)\u001b[0m\n\u001b[1;32m      3\u001b[0m     \u001b[38;5;28mprint\u001b[39m(s)\n\u001b[1;32m      4\u001b[0m \u001b[38;5;28;01melse\u001b[39;00m:\n\u001b[0;32m----> 5\u001b[0m     \u001b[43mrecurse\u001b[49m\u001b[43m(\u001b[49m\u001b[43mn\u001b[49m\u001b[43m \u001b[49m\u001b[38;5;241;43m-\u001b[39;49m\u001b[43m \u001b[49m\u001b[38;5;241;43m1\u001b[39;49m\u001b[43m,\u001b[49m\u001b[43m \u001b[49m\u001b[43mn\u001b[49m\u001b[43m \u001b[49m\u001b[38;5;241;43m+\u001b[39;49m\u001b[43m \u001b[49m\u001b[43ms\u001b[49m\u001b[43m)\u001b[49m\n",
      "Cell \u001b[0;32mIn[4], line 5\u001b[0m, in \u001b[0;36mrecurse\u001b[0;34m(n, s)\u001b[0m\n\u001b[1;32m      3\u001b[0m     \u001b[38;5;28mprint\u001b[39m(s)\n\u001b[1;32m      4\u001b[0m \u001b[38;5;28;01melse\u001b[39;00m:\n\u001b[0;32m----> 5\u001b[0m     \u001b[43mrecurse\u001b[49m\u001b[43m(\u001b[49m\u001b[43mn\u001b[49m\u001b[43m \u001b[49m\u001b[38;5;241;43m-\u001b[39;49m\u001b[43m \u001b[49m\u001b[38;5;241;43m1\u001b[39;49m\u001b[43m,\u001b[49m\u001b[43m \u001b[49m\u001b[43mn\u001b[49m\u001b[43m \u001b[49m\u001b[38;5;241;43m+\u001b[39;49m\u001b[43m \u001b[49m\u001b[43ms\u001b[49m\u001b[43m)\u001b[49m\n",
      "    \u001b[0;31m[... skipping similar frames: recurse at line 5 (2970 times)]\u001b[0m\n",
      "Cell \u001b[0;32mIn[4], line 5\u001b[0m, in \u001b[0;36mrecurse\u001b[0;34m(n, s)\u001b[0m\n\u001b[1;32m      3\u001b[0m     \u001b[38;5;28mprint\u001b[39m(s)\n\u001b[1;32m      4\u001b[0m \u001b[38;5;28;01melse\u001b[39;00m:\n\u001b[0;32m----> 5\u001b[0m     \u001b[43mrecurse\u001b[49m\u001b[43m(\u001b[49m\u001b[43mn\u001b[49m\u001b[43m \u001b[49m\u001b[38;5;241;43m-\u001b[39;49m\u001b[43m \u001b[49m\u001b[38;5;241;43m1\u001b[39;49m\u001b[43m,\u001b[49m\u001b[43m \u001b[49m\u001b[43mn\u001b[49m\u001b[43m \u001b[49m\u001b[38;5;241;43m+\u001b[39;49m\u001b[43m \u001b[49m\u001b[43ms\u001b[49m\u001b[43m)\u001b[49m\n",
      "\u001b[0;31mRecursionError\u001b[0m: maximum recursion depth exceeded"
     ]
    }
   ],
   "source": [
    "recurse(-1, 0)"
   ]
  },
  {
   "cell_type": "markdown",
   "id": "9daec7f7-04f3-46e5-b01c-3b303a051895",
   "metadata": {},
   "source": [
    "<h3>2. Escreva uma docstring que explique tudo o que alguém precisaria saber para usar esta função (e mais nada).</h3>"
   ]
  },
  {
   "cell_type": "code",
   "execution_count": 26,
   "id": "b0862fd2-dcf1-44a2-a9f5-81d61304df97",
   "metadata": {},
   "outputs": [],
   "source": [
    "def recurse(n, s):\n",
    "    \"\"\"\n",
    "    Esta função executa de forma recursiva fazendo chamadas a si mesmo n - 1 vezes(totalizando n chamadas) e apresentado ao final o\n",
    "    total da soma de 0 até n + o valor de s.\n",
    "    \"\"\"\n",
    "    if n == 0:\n",
    "        print(s)\n",
    "    else:\n",
    "        recurse(n - 1, n + s)"
   ]
  },
  {
   "cell_type": "code",
   "execution_count": 27,
   "id": "a9ff80ef-ef1e-4de3-9eb8-a83554c400ff",
   "metadata": {},
   "outputs": [
    {
     "name": "stdout",
     "output_type": "stream",
     "text": [
      "5\n"
     ]
    }
   ],
   "source": [
    "recurse(2, 2)"
   ]
  }
 ],
 "metadata": {
  "kernelspec": {
   "display_name": "Python 3 (ipykernel)",
   "language": "python",
   "name": "python3"
  },
  "language_info": {
   "codemirror_mode": {
    "name": "ipython",
    "version": 3
   },
   "file_extension": ".py",
   "mimetype": "text/x-python",
   "name": "python",
   "nbconvert_exporter": "python",
   "pygments_lexer": "ipython3",
   "version": "3.11.6"
  }
 },
 "nbformat": 4,
 "nbformat_minor": 5
}
