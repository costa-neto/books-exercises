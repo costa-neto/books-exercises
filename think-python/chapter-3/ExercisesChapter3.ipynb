{
 "cells": [
  {
   "cell_type": "markdown",
   "id": "c1f3c58e-140b-4a25-ae30-1b455108d7af",
   "metadata": {},
   "source": [
    "<h1>Exercício 3.1</h1>\n",
    "<h2>1. Escreva uma função chamada right_justify, que receba uma string chamada s como parâmetro e exiba a string com espaços suficientes à frente para que a última letra da string esteja na coluna 70 da tela.</h2>"
   ]
  },
  {
   "cell_type": "code",
   "execution_count": 3,
   "id": "a4ddbdb0-8160-489a-8cde-4b42f483eadb",
   "metadata": {},
   "outputs": [
    {
     "name": "stdout",
     "output_type": "stream",
     "text": [
      "                                                                  teste\n"
     ]
    }
   ],
   "source": [
    "def right_justify(s):\n",
    "    print(\" \"*(70-len(s)),s)\n",
    "right_justify(\"teste\")"
   ]
  },
  {
   "cell_type": "markdown",
   "id": "58db4678-257d-4e4f-899b-dd943dd7cabd",
   "metadata": {},
   "source": [
    "<h1>Exercício 3.2</h1>\n",
    "<h2>Um objeto de função é um valor que pode ser atribuído a uma variável ou passado como argumento. Por exemplo, do_twice é uma função que toma um objeto de função como argumento e o chama duas vezes:\n",
    "<code>\n",
    "def do_twice(f):\n",
    "    f()\n",
    "    f()\n",
    "</code>\n",
    "Aqui está um exemplo que usa do_twice para chamar uma função chamada print_spam duas vezes:\n",
    "<code>\n",
    "def print_spam():\n",
    "    print('spam')\n",
    "do_twice(print_spam)\n",
    "</code>\n",
    "</h2>\n",
    "<h3>1. Digite este exemplo em um script e teste-o.</h3>"
   ]
  },
  {
   "cell_type": "code",
   "execution_count": 5,
   "id": "afe250cd-113f-4785-a0fe-f3c65c65b44b",
   "metadata": {},
   "outputs": [],
   "source": [
    "def do_twice(f):\n",
    "    f()\n",
    "    f()"
   ]
  },
  {
   "cell_type": "code",
   "execution_count": 6,
   "id": "e1b57ae0-0d11-4487-926b-7b4a5fbb28a1",
   "metadata": {},
   "outputs": [
    {
     "name": "stdout",
     "output_type": "stream",
     "text": [
      "spam\n",
      "spam\n"
     ]
    }
   ],
   "source": [
    "def print_spam():\n",
    "    print('spam')\n",
    "do_twice(print_spam)"
   ]
  },
  {
   "cell_type": "markdown",
   "id": "c70ee59b-5c10-4a41-809d-1c2f3cbab336",
   "metadata": {},
   "source": [
    "<h3>2. Altere do_twice para que receba dois argumentos, um objeto de função e um valor, e chame a função duas vezes, passando o valor como um argumento.</h3>"
   ]
  },
  {
   "cell_type": "code",
   "execution_count": 7,
   "id": "32e83428-7c3f-4dbf-bfee-31ef14b92c34",
   "metadata": {},
   "outputs": [
    {
     "name": "stdout",
     "output_type": "stream",
     "text": [
      "teste\n",
      "teste\n"
     ]
    }
   ],
   "source": [
    "def do_twice(f, val):\n",
    "    f(val)\n",
    "    f(val)\n",
    "do_twice(print, \"teste\")"
   ]
  },
  {
   "cell_type": "markdown",
   "id": "2627bcfc-8384-4668-9f50-4a58e6f07990",
   "metadata": {},
   "source": [
    "<h3>3. Copie a definição de print_twice que aparece anteriormente neste capítulo no seu script.</h3>"
   ]
  },
  {
   "cell_type": "code",
   "execution_count": 9,
   "id": "295608a8-1763-4303-a590-a1032b7c094b",
   "metadata": {},
   "outputs": [],
   "source": [
    "def print_twice(bruce):\n",
    "    print(bruce)\n",
    "    print(bruce)"
   ]
  },
  {
   "cell_type": "markdown",
   "id": "21561080-538f-4089-b837-b995add7a7a8",
   "metadata": {},
   "source": [
    "<h3>4. Use a versão alterada de do_twice para chamar print_twice duas vezes, passando 'spam' como um argumento.</h3>"
   ]
  },
  {
   "cell_type": "code",
   "execution_count": 10,
   "id": "65b429a5-0a36-4750-ace9-b78c63575595",
   "metadata": {},
   "outputs": [
    {
     "name": "stdout",
     "output_type": "stream",
     "text": [
      "spam\n",
      "spam\n",
      "spam\n",
      "spam\n"
     ]
    }
   ],
   "source": [
    "do_twice(print_twice, 'spam')"
   ]
  },
  {
   "cell_type": "markdown",
   "id": "35575690-d2ff-4037-9b37-641708027b74",
   "metadata": {},
   "source": [
    "<h3>5. Defina uma função nova chamada do_four que receba um objeto de função e um valor e chame a função quatro vezes, passando o valor como um parâmetro. Deve haver só duas afirmações no corpo desta função, não quatro.</h3>"
   ]
  },
  {
   "cell_type": "code",
   "execution_count": 11,
   "id": "c962b98d-e908-49a2-8959-245e99c167a1",
   "metadata": {},
   "outputs": [
    {
     "name": "stdout",
     "output_type": "stream",
     "text": [
      "spam\n",
      "spam\n",
      "spam\n",
      "spam\n"
     ]
    }
   ],
   "source": [
    "def do_four_times(f, val):\n",
    "    do_twice(f, val)\n",
    "    do_twice(f, val)\n",
    "do_four_times(print, 'spam')"
   ]
  },
  {
   "cell_type": "code",
   "execution_count": null,
   "id": "49c56e02-35a7-4147-9933-d6ba8bf23645",
   "metadata": {},
   "outputs": [],
   "source": []
  }
 ],
 "metadata": {
  "kernelspec": {
   "display_name": "Python 3 (ipykernel)",
   "language": "python",
   "name": "python3"
  },
  "language_info": {
   "codemirror_mode": {
    "name": "ipython",
    "version": 3
   },
   "file_extension": ".py",
   "mimetype": "text/x-python",
   "name": "python",
   "nbconvert_exporter": "python",
   "pygments_lexer": "ipython3",
   "version": "3.11.5"
  }
 },
 "nbformat": 4,
 "nbformat_minor": 5
}
