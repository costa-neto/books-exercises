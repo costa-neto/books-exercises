{
 "cells": [
  {
   "cell_type": "markdown",
   "id": "c3f6e29b-6577-4d5f-a0d8-e95233c78fb7",
   "metadata": {},
   "source": [
    "1. Como você definiria o aprendizado de máquina?"
   ]
  },
  {
   "cell_type": "markdown",
   "id": "4d68f88c-5f2d-4583-b4a7-a3042a47eb46",
   "metadata": {},
   "source": [
    "São técnicas de computação que permitem que determinado sistema melhore a sua execução de determinadas tarefas de acordo com certas métricas a partir de cada experiência nova que ele tenha, utilizando assim os dados para \"aprender\". São programas que aprendem com os dados."
   ]
  },
  {
   "cell_type": "markdown",
   "id": "d0fa0221-64c4-4d35-b7ff-446d6a449c91",
   "metadata": {},
   "source": [
    "2. Você consegue apontar quatro tipos de problemas que se destacam?"
   ]
  },
  {
   "cell_type": "markdown",
   "id": "470ff682-fec0-4a8b-9d6f-80d9d68b2480",
   "metadata": {},
   "source": [
    "- Problemas cujas soluções dependem de longas listas de regras ou ajustes;\n",
    "- Problemas complexos que não possuem uma soluções ótima utilizando uma abordagem computacional comum;\n",
    "- Problemas que exigem adaptação a partir de novos ambientes(novos dados);\n",
    "- Problemas complexos e que exigem enormes quantidades de dados."
   ]
  },
  {
   "cell_type": "markdown",
   "id": "73bb6e7f-f5c9-4b80-bd8f-ca20a4c8a523",
   "metadata": {},
   "source": [
    "3. O que é um conjunto de treinamento rotulado?"
   ]
  },
  {
   "cell_type": "markdown",
   "id": "325b3135-b3d6-4f62-8670-722933e65be2",
   "metadata": {},
   "source": [
    "É aquele em que o conjunto contém as soluções desejadas de cada instância."
   ]
  },
  {
   "cell_type": "markdown",
   "id": "c51b02f4-4464-4a69-befb-5f02786e766e",
   "metadata": {},
   "source": [
    "4. Quais são as duas tarefas supervisionadas mais comuns?"
   ]
  },
  {
   "cell_type": "markdown",
   "id": "1df99134-f5c4-4898-a7b6-c47eaad491c3",
   "metadata": {},
   "source": [
    "Classificação e Regressão."
   ]
  },
  {
   "cell_type": "markdown",
   "id": "4f5e4cfa-40cc-4d6d-a7f7-82079be800d1",
   "metadata": {},
   "source": [
    "5. Você consegue citar quatro tarefas comuns não supervisionadas?"
   ]
  },
  {
   "cell_type": "markdown",
   "id": "dc89a25d-6f7c-41f6-a1ef-c7f1cf1a224d",
   "metadata": {},
   "source": [
    "Clusterização, Detecção de anomalias/novidades, Visualização, Redução da Dimensionalidade, Aprendizado de Regras por Associação."
   ]
  },
  {
   "cell_type": "markdown",
   "id": "ebef444d-1573-42a5-a15b-7384e99e7dcd",
   "metadata": {},
   "source": [
    "6. Qual tipo de algoritmo de aprendizado de máquina você usaria para possibilitar que um robô andasse por aí em lugares inexplorados?"
   ]
  },
  {
   "cell_type": "markdown",
   "id": "bf07fc16-2330-42d2-a019-d2d18564370c",
   "metadata": {},
   "source": [
    "Aprendizado por Reforço."
   ]
  },
  {
   "cell_type": "markdown",
   "id": "6a689eb0-dd29-4b49-a0f3-d85e07078844",
   "metadata": {},
   "source": [
    "7. Que tipo de algoritmo você utilizaria a fim de segmentar seus clientes em diversos grupos?"
   ]
  },
  {
   "cell_type": "markdown",
   "id": "10be209e-65e3-4d41-8694-7e7256ce70b3",
   "metadata": {},
   "source": [
    "Clusterização ou Classificação."
   ]
  },
  {
   "cell_type": "markdown",
   "id": "26a2c4d0-8b9c-4092-bcba-d9ddc76271ea",
   "metadata": {},
   "source": [
    "8. Você acha que o problema da detecção de spam tem a ver com o aprendizado supervisionado ou não supervisionado?"
   ]
  },
  {
   "cell_type": "markdown",
   "id": "ed2318f1-9800-47a0-9b42-c3a39727db24",
   "metadata": {},
   "source": [
    "Supervisionado, comumente a partir de um conjunto de dados rotulado que definiria características comuns de e-mails spam ou ham."
   ]
  },
  {
   "cell_type": "markdown",
   "id": "7aaa67e9-fc03-4e25-bac2-53f968f4b9b9",
   "metadata": {},
   "source": [
    "9. O que é um sistema de aprendizado online?"
   ]
  },
  {
   "cell_type": "markdown",
   "id": "11382540-ff71-428c-838f-b6ca111c1076",
   "metadata": {},
   "source": [
    "Um sistema de aprendizado onde os dados são inseridos de forma iterativa em pequenos batches, ao invés de treinamentos com o conjunto completo de dados. Desta forma o sistema aprende de forma constante e mais rápida."
   ]
  },
  {
   "cell_type": "markdown",
   "id": "e172fb43-2fa8-43c5-98bd-d4ddd2fabe2d",
   "metadata": {},
   "source": [
    "10. O que é aprendizado out-of-core?"
   ]
  },
  {
   "cell_type": "markdown",
   "id": "9d27d2a2-32f0-4967-bc39-5d7f77f99186",
   "metadata": {},
   "source": [
    "Quando um largo conjunto de dados é fatiado em pedaços menores(mini-batches) para então ser processado por aprendizado online, driblando assim problemas como falta de memória suficiente para o tamanho dos dados."
   ]
  },
  {
   "cell_type": "markdown",
   "id": "b2ba69af-fc2a-4711-956a-fd1ca54bb355",
   "metadata": {},
   "source": [
    "11. Qual tipo de algoritmo de aprendizado depende de uma medida de similaridade para efetuar predições?"
   ]
  },
  {
   "cell_type": "markdown",
   "id": "c96945c1-81b6-48dc-a726-f05f64f67858",
   "metadata": {},
   "source": [
    "Aprendizado baseado em instância."
   ]
  },
  {
   "cell_type": "markdown",
   "id": "d5cec288-e69c-4d3c-8836-cd9367a65b35",
   "metadata": {},
   "source": [
    "12. Qual a diferença entre um parâmetro de modelo e o hiperparâmetro do algoritmo de aprendizado?"
   ]
  },
  {
   "cell_type": "markdown",
   "id": "91cae92f-75fc-489a-ab42-5bd25801988b",
   "metadata": {},
   "source": [
    "Um modelo possui n parâmetros que determinam o que aquele modelo irá predir de acordo com cada nova instância. Um hiperparâmetro é um parâmetro do algoritmo que aplica aquele modelo, como por exemplo a quantidade de regularização a ser aplicada."
   ]
  },
  {
   "cell_type": "markdown",
   "id": "1f95a39c-e37d-4e8e-8496-b1457b1542fa",
   "metadata": {},
   "source": [
    "13. Para que servem os algoritmos de aprendizado baseados em modelos? Qual é a estratégia mais comum que eles utilizam para serem bem-sucedidos? Como eles fazem predições?"
   ]
  },
  {
   "cell_type": "markdown",
   "id": "bc0a5ddb-0fd8-46aa-8def-708f3ab37463",
   "metadata": {},
   "source": [
    "Servem para definir um valor ideal para os parâmetros do modelo, tornando este generalizado para atender novas instâncias.\n",
    "Para tornar o modelo bem-sucedido, geralmente utiliza-se uma função de custo que será minimizada e definirá a habilidade do modelo em realizar predição sobres os dados e também uma penalidade baseada na complexidade do modelo.\n",
    "Para fazer predições, informamos as características da nova instância na função de predição do modelo, utilizando os valores dos parâmetros que foram definidos pelo algoritmo de aprendizagem."
   ]
  },
  {
   "cell_type": "markdown",
   "id": "28d15207-0756-4bb6-94b0-85a8b6d310a9",
   "metadata": {},
   "source": [
    "14. Você pode mencionar quatro dos principais desafios do aprendizado de máquina?"
   ]
  },
  {
   "cell_type": "markdown",
   "id": "f5f38a2d-e109-45a1-88a5-237cd9fc9a11",
   "metadata": {},
   "source": [
    "Dados não representativos, falta de dados, dados de baixa qualidade, característica não informativas, modelos simplificados demais para se adaptarem aos dados e modelos complexos demais que se sobreajustam aos dados."
   ]
  },
  {
   "cell_type": "markdown",
   "id": "89e834ed-07b1-4536-a032-bd672246821f",
   "metadata": {},
   "source": [
    "15. Caso o modelo tenha um bom desempenha nos dados de treinamento, mas a generealização deixa a desejar em instâncias novas, o que está acontecendo? Você pode exemplificar três possíveis soluções?"
   ]
  },
  {
   "cell_type": "markdown",
   "id": "7262aaf9-f47f-42aa-93e6-381e76ea4b68",
   "metadata": {},
   "source": [
    "É um possível caso de sobreajuste, e possíveis soluções são: simplificar o modelo, obter mais dados ou reduzir o ruído dos dados de treinamento."
   ]
  },
  {
   "cell_type": "markdown",
   "id": "6d3a38e8-6e66-4695-bb9d-48ef4bb8b3e5",
   "metadata": {},
   "source": [
    "16. O que é um conjunto de testes e por que você o utilizaria?"
   ]
  },
  {
   "cell_type": "markdown",
   "id": "5fff760a-33d7-4356-ae9e-adbf3b361be7",
   "metadata": {},
   "source": [
    "É o conjunto usado para estimar, após o uso do conjunto de treinamento, qual será o nível de erro de generalização para novas instâncias."
   ]
  },
  {
   "cell_type": "markdown",
   "id": "ebc3d38a-952a-49a5-a9bd-b9026dc8ff59",
   "metadata": {},
   "source": [
    "17. Qual é o propósito de um conjunto de validação?"
   ]
  },
  {
   "cell_type": "markdown",
   "id": "1b11d0c6-c1e7-4399-a75e-df8f9e2b86f9",
   "metadata": {},
   "source": [
    "É utilizado para comparar diferentes modelos e ajustar os hiperparâmetros."
   ]
  },
  {
   "cell_type": "markdown",
   "id": "0799741f-313b-4eb6-b5b5-da70ee9b45f1",
   "metadata": {},
   "source": [
    "18. O que é um train-dev set, quando é necessário e como usá-lo?"
   ]
  },
  {
   "cell_type": "markdown",
   "id": "dde14d6b-6f4d-496d-abcc-c61fd8da597c",
   "metadata": {},
   "source": [
    "É uma forma eficaz de validar a eficácia de seu modelo, previnindo possíveis imcompatibilidades entre os dados de treinamento e os de validação e teste. O train-dev set é parte do conjunto de treinamento, porém o modelo é treinado com o restanto de conjunto de treinamento e avaliado tanto no train-dev quanto no conjunto de validação. Desta forma, caso o modelo tenha bom desempenho no conjunto de treinamento, mas não no conjunto train-dev ele provavelmente está sobreajustado ao conjunto de treinamento. Caso ele tenha bom desempenho no conjunto de treinamento e no conjunto train-dev, mas não no conjunto de validação, provavelmente há uma incompatibilidade de dados entre os dados de treinamento e os de validação + teste, e será necessário melhorar os dados de treinamento para que reflitam melhor os de validação e teste."
   ]
  },
  {
   "cell_type": "markdown",
   "id": "491be1c4-53c7-4efa-a186-ab8ec85a3137",
   "metadata": {},
   "source": [
    "19. O que pode sair de errado se você ajustar os hiperparâmetros utilizando o conjunto de testes?"
   ]
  },
  {
   "cell_type": "markdown",
   "id": "b02fdc21-71a7-4c7f-929b-9076b77f0994",
   "metadata": {},
   "source": [
    "Pode ocorrer o sobreajuste, tornando assim o erro de generalização maior do que o que será calculado por você, e consequentemente em produção o modelo pode ter um desempenho pior do que o esperado."
   ]
  },
  {
   "cell_type": "code",
   "execution_count": null,
   "id": "b0f125c6-09a3-4e64-a4ec-d50347e9a8c0",
   "metadata": {},
   "outputs": [],
   "source": []
  }
 ],
 "metadata": {
  "kernelspec": {
   "display_name": "Python 3 (ipykernel)",
   "language": "python",
   "name": "python3"
  },
  "language_info": {
   "codemirror_mode": {
    "name": "ipython",
    "version": 3
   },
   "file_extension": ".py",
   "mimetype": "text/x-python",
   "name": "python",
   "nbconvert_exporter": "python",
   "pygments_lexer": "ipython3",
   "version": "3.13.1"
  }
 },
 "nbformat": 4,
 "nbformat_minor": 5
}
